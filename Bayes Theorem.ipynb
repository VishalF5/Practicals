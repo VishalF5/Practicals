{
 "cells": [
  {
   "cell_type": "code",
   "execution_count": 8,
   "id": "877dc746",
   "metadata": {},
   "outputs": [
    {
     "name": "stdout",
     "output_type": "stream",
     "text": [
      "P(A/B)=0.339%\n"
     ]
    }
   ],
   "source": [
    "# Calculate P(A/B) given P(A)=0.02℅,P(B/A)=85%,P(B/notA)=95%\n",
    "\n",
    "def bayes_law (p_a,p_b_given_a,p_b_given_not_a):\n",
    "\n",
    "    not_a=1-p_a\n",
    "     \n",
    "    p_b=p_b_given_a*p_a + p_b_given_not_a*not_a\n",
    "\n",
    "\n",
    "    p_a_given_b=(p_b_given_a* p_a)/p_b\n",
    "\n",
    "    return p_a_given_b\n",
    "\n",
    "p_a=0.0002\n",
    "p_b_given_a=0.85\n",
    "p_b_given_not_a=0.05\n",
    "\n",
    "result=bayes_law (p_a,p_b_given_a,p_b_given_not_a)\n",
    "\n",
    "\n",
    "print('P(A/B)=%.3f%%' %(result*100))"
   ]
  },
  {
   "cell_type": "code",
   "execution_count": 26,
   "id": "d5ed5aa8",
   "metadata": {},
   "outputs": [
    {
     "name": "stdout",
     "output_type": "stream",
     "text": [
      "P(A/B)=47.87%\n"
     ]
    }
   ],
   "source": [
    "# Calculate P(A/B) given P(A)=0.03,P(not A)=0.07,P(B/A)=0.75,P(B/notA)=0.35\n",
    "\n",
    "def bayes_law (p_a,p_b_given_a,p_b_given_not_a):\n",
    "\n",
    "    p_a_given_b=(p_b_given_a* p_a)/(p_b_given_a*p_a +p_b_given_not_a*p_not_a)\n",
    "    \n",
    "\n",
    "\n",
    "    return  p_a_given_b\n",
    "\n",
    "p_a=0.03\n",
    "p_not_a=0.07\n",
    "p_b_given_a=0.75\n",
    "p_b_given_not_a=0.35\n",
    "\n",
    "result=bayes_law (p_a,p_b_given_a,p_b_given_not_a)\n",
    "\n",
    "\n",
    "print('P(A/B)=%.2f%%' %(result*100))"
   ]
  },
  {
   "cell_type": "code",
   "execution_count": null,
   "id": "a2621af9",
   "metadata": {},
   "outputs": [],
   "source": []
  }
 ],
 "metadata": {
  "kernelspec": {
   "display_name": "Python 3",
   "language": "python",
   "name": "python3"
  },
  "language_info": {
   "codemirror_mode": {
    "name": "ipython",
    "version": 3
   },
   "file_extension": ".py",
   "mimetype": "text/x-python",
   "name": "python",
   "nbconvert_exporter": "python",
   "pygments_lexer": "ipython3",
   "version": "3.8.8"
  }
 },
 "nbformat": 4,
 "nbformat_minor": 5
}
